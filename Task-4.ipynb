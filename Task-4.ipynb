{
 "cells": [
  {
   "cell_type": "markdown",
   "metadata": {},
   "source": [
    "# <span style='font-family:Georgia'> <span style='background:yellow'> **NAME - NEERAJ KUMAR**  </span>\n",
    "\n",
    "## <span style='font-family:Georgia'> <span style='background:yellow'> **Data Science & Business Analytics Tasks**  </span>\n",
    "\n",
    "### <span style='color:black'><span style='background:yellow'>**TASK-4: Exploratory Data Analysis - Terrorism** </span>\n",
    "#### <span style='color:black'><span style='background:yellow'> **(Perform Exploratory Data Analysis On Dataset Global Terrorism, What all security issues and insights you can drive by EDA. ?)**  </span>\n"
   ]
  },
  {
   "cell_type": "markdown",
   "metadata": {},
   "source": [
    "##### "
   ]
  },
  {
   "cell_type": "markdown",
   "metadata": {},
   "source": [
    "## Importing the Dependencies \n"
   ]
  },
  {
   "cell_type": "code",
   "execution_count": null,
   "metadata": {},
   "outputs": [],
   "source": [
    "import numpy as np\n",
    "import pandas as pd\n",
    "import matplotlib.pyplot as plt\n",
    "import seaborn as sns"
   ]
  },
  {
   "cell_type": "markdown",
   "metadata": {},
   "source": [
    "## Loading the dataset "
   ]
  },
  {
   "cell_type": "code",
   "execution_count": null,
   "metadata": {},
   "outputs": [],
   "source": [
    "dataset_link = \"https://bit.ly/2TK5Xn5\"\n",
    "df = pd.read_csv(\"terrorism.csv\", encoding='ISO-8859-1')\n",
    "df.sample(3)"
   ]
  },
  {
   "cell_type": "code",
   "execution_count": null,
   "metadata": {
    "scrolled": true
   },
   "outputs": [],
   "source": [
    "df.shape"
   ]
  },
  {
   "cell_type": "code",
   "execution_count": null,
   "metadata": {
    "scrolled": false
   },
   "outputs": [],
   "source": [
    "df.columns"
   ]
  },
  {
   "cell_type": "markdown",
   "metadata": {},
   "source": [
    "## Selecting the required columns "
   ]
  },
  {
   "cell_type": "code",
   "execution_count": null,
   "metadata": {},
   "outputs": [],
   "source": [
    "df_req = df[['iyear','imonth','iday','gname','country_txt','region_txt',\n",
    "               'provstate','city','attacktype1_txt',\n",
    "               'targtype1_txt','nkill','weaptype1_txt','nwound']]"
   ]
  },
  {
   "cell_type": "markdown",
   "metadata": {},
   "source": [
    "## Renaming the columns"
   ]
  },
  {
   "cell_type": "code",
   "execution_count": null,
   "metadata": {},
   "outputs": [],
   "source": [
    "df_req.rename(columns={'country_txt':'Country','region_txt':'Region',\n",
    "                       'city':'City','nkill':'Killed','nwound':'Wounded',\n",
    "                       'gname':'Group Name','iday':'Day','imonth':'Month','iyear':'Year',\n",
    "                       'attacktype1_txt':'AttackType','weaptype1_txt':'WeaponType',\n",
    "                       'targtype1_txt':'TargetType','provstate':'Provstate'},inplace=True)"
   ]
  },
  {
   "cell_type": "code",
   "execution_count": null,
   "metadata": {
    "scrolled": false
   },
   "outputs": [],
   "source": [
    " df_req.head()"
   ]
  },
  {
   "cell_type": "markdown",
   "metadata": {},
   "source": [
    "## Handling NULL values "
   ]
  },
  {
   "cell_type": "code",
   "execution_count": null,
   "metadata": {
    "scrolled": true
   },
   "outputs": [],
   "source": [
    "df_req.isnull().sum()"
   ]
  },
  {
   "cell_type": "markdown",
   "metadata": {},
   "source": [
    "Observations:\n",
    "  - 421 NULL values in Provstate column\n",
    "  - 434 NULL values in City column\n",
    "  - 10313 NULL values in Killed column\n",
    "  - 16311 NULL values in Wounded column"
   ]
  },
  {
   "cell_type": "code",
   "execution_count": null,
   "metadata": {
    "scrolled": true
   },
   "outputs": [],
   "source": [
    "df_req.fillna(0,inplace=True)"
   ]
  },
  {
   "cell_type": "code",
   "execution_count": null,
   "metadata": {
    "scrolled": true
   },
   "outputs": [],
   "source": [
    "df_req.isnull().sum()"
   ]
  },
  {
   "cell_type": "markdown",
   "metadata": {},
   "source": [
    "## Handling duplicated values "
   ]
  },
  {
   "cell_type": "code",
   "execution_count": null,
   "metadata": {
    "scrolled": true
   },
   "outputs": [],
   "source": [
    "df_req.duplicated().sum()"
   ]
  },
  {
   "cell_type": "markdown",
   "metadata": {},
   "source": [
    "there are 14314 duplicated values in the dataset"
   ]
  },
  {
   "cell_type": "code",
   "execution_count": null,
   "metadata": {},
   "outputs": [],
   "source": [
    "df_req.drop_duplicates(inplace=True)"
   ]
  },
  {
   "cell_type": "code",
   "execution_count": null,
   "metadata": {},
   "outputs": [],
   "source": [
    "df_req.duplicated().sum()"
   ]
  },
  {
   "cell_type": "code",
   "execution_count": null,
   "metadata": {},
   "outputs": [],
   "source": [
    "df_req.shape"
   ]
  },
  {
   "cell_type": "markdown",
   "metadata": {},
   "source": [
    "##  Info & desccribe"
   ]
  },
  {
   "cell_type": "code",
   "execution_count": null,
   "metadata": {},
   "outputs": [],
   "source": [
    "df_req.info()"
   ]
  },
  {
   "cell_type": "code",
   "execution_count": null,
   "metadata": {
    "scrolled": true
   },
   "outputs": [],
   "source": [
    "df_req.describe()"
   ]
  },
  {
   "cell_type": "code",
   "execution_count": null,
   "metadata": {
    "scrolled": true
   },
   "outputs": [],
   "source": [
    "df_req.head()"
   ]
  },
  {
   "cell_type": "markdown",
   "metadata": {},
   "source": [
    "##  Attacks In each Year"
   ]
  },
  {
   "cell_type": "code",
   "execution_count": null,
   "metadata": {},
   "outputs": [],
   "source": [
    "plt.figure(figsize=(18,4))\n",
    "df_req.Year.value_counts().sort_index().plot(kind='bar',color=\"black\")\n",
    "plt.xlabel('Year',fontsize=15)\n",
    "plt.ylabel('Number of Attacks',fontsize=15)\n",
    "plt.title('Attacks In Each Year',fontsize=20)\n",
    "plt.show()"
   ]
  },
  {
   "cell_type": "markdown",
   "metadata": {},
   "source": [
    "Observations:\n",
    " - From 2012, there is signigicant increase in attacks.\n",
    " - 2014 was the most affected year by the terrorism"
   ]
  },
  {
   "cell_type": "markdown",
   "metadata": {},
   "source": [
    "## Most Attacking Groups Of  The Terrorists "
   ]
  },
  {
   "cell_type": "code",
   "execution_count": null,
   "metadata": {},
   "outputs": [],
   "source": [
    "plt.figure(figsize=(14,6))\n",
    "df_req[\"Group Name\"].value_counts()[1:10].plot(kind='bar',color='black')\n",
    "plt.xticks(rotation=80)\n",
    "plt.xlabel('Group Name',fontsize=15)\n",
    "plt.ylabel('Number Of Attack',fontsize=15)\n",
    "plt.title('Top 15 Groups Of The Terrorists',fontsize=20)\n",
    "plt.show()"
   ]
  },
  {
   "cell_type": "markdown",
   "metadata": {},
   "source": [
    "As we can see the most attacks are done by Taliban over the years"
   ]
  },
  {
   "cell_type": "markdown",
   "metadata": {},
   "source": [
    "### Most Affected Countries By The Terrorism"
   ]
  },
  {
   "cell_type": "code",
   "execution_count": null,
   "metadata": {},
   "outputs": [],
   "source": [
    "plt.figure(figsize=(14,6))\n",
    "df_req.Country.value_counts()[0:10].sort_index().plot(kind='bar',color='black')\n",
    "plt.xlabel('Countries',fontsize=15)\n",
    "plt.ylabel('Number Of Attack',fontsize=15)\n",
    "plt.title('Top 10 Affected Countries',fontsize=20)\n",
    "plt.show()"
   ]
  },
  {
   "cell_type": "markdown",
   "metadata": {},
   "source": [
    "Observations:\n",
    "- Iraq is the most affected country by the terrroism\n",
    "- Pakistan & Afghanistan are the second and third most affected countries\n",
    "- India is at 4th place in this list"
   ]
  },
  {
   "cell_type": "markdown",
   "metadata": {},
   "source": [
    "## Most Affected Regions By The Terrorism"
   ]
  },
  {
   "cell_type": "code",
   "execution_count": null,
   "metadata": {},
   "outputs": [],
   "source": [
    "plt.figure(figsize=(14,6))\n",
    "df_req.Region.value_counts().plot(kind='bar',color='black')\n",
    "plt.xlabel('Regions',fontsize=15)\n",
    "plt.ylabel('Number Of Attack',fontsize=15)\n",
    "plt.title('Affected Regions',fontsize=20)\n",
    "plt.show()"
   ]
  },
  {
   "cell_type": "markdown",
   "metadata": {},
   "source": [
    "Observations:\n",
    " - Middle East & North Africa is the most affected region\n",
    " - Australasia and Oceania is the less affected region by the terrorism"
   ]
  },
  {
   "cell_type": "markdown",
   "metadata": {},
   "source": [
    "## Attack Type "
   ]
  },
  {
   "cell_type": "code",
   "execution_count": null,
   "metadata": {},
   "outputs": [],
   "source": [
    "plt.figure(figsize=(14,6))\n",
    "df_req[\"AttackType\"].value_counts().plot(kind='bar',color='black')\n",
    "plt.xlabel('Attack Type',fontsize=15)\n",
    "plt.ylabel('Number Of Attack',fontsize=15)\n",
    "plt.title('Tactics Used In Terror Attacks',fontsize=20)\n",
    "plt.show()"
   ]
  },
  {
   "cell_type": "markdown",
   "metadata": {},
   "source": [
    "Observation:\n",
    " - Bombing/Explosion is mostly used tactic in terror attack"
   ]
  },
  {
   "cell_type": "markdown",
   "metadata": {},
   "source": [
    "## Top-10 Mostly Targeted Communities By The Terrorists "
   ]
  },
  {
   "cell_type": "code",
   "execution_count": null,
   "metadata": {},
   "outputs": [],
   "source": [
    "plt.figure(figsize=(14,6))\n",
    "df_req.TargetType.value_counts()[:10].plot(kind='bar',color='black')\n",
    "plt.xlabel('Community',fontsize=15)\n",
    "plt.ylabel('Number Of Attack',fontsize=15)\n",
    "plt.title('Mostly Targeted Communities',fontsize=20)\n",
    "plt.show()"
   ]
  },
  {
   "cell_type": "markdown",
   "metadata": {},
   "source": [
    "- Citizens & Property is the most targeted community by the terrorists"
   ]
  },
  {
   "cell_type": "markdown",
   "metadata": {},
   "source": [
    "## Top-5 Most Used Weapons"
   ]
  },
  {
   "cell_type": "code",
   "execution_count": null,
   "metadata": {},
   "outputs": [],
   "source": [
    "plt.figure(figsize=(20,8))\n",
    "df_req.WeaponType.value_counts()[:5].plot(kind='pie',explode=[0,0.05,0,0,0],autopct='%1.0f%%')\n",
    "plt.show()"
   ]
  },
  {
   "cell_type": "markdown",
   "metadata": {},
   "source": [
    "Observation:\n",
    " - Explosives & Firearms are the most used weapons by the terrorist"
   ]
  },
  {
   "cell_type": "markdown",
   "metadata": {},
   "source": [
    "## People Killed By Terrorists In Every Year"
   ]
  },
  {
   "cell_type": "code",
   "execution_count": null,
   "metadata": {},
   "outputs": [],
   "source": [
    "plt.rcParams[\"figure.figsize\"] = (18,8)\n",
    "df_req[['Year','Killed']].groupby(['Year']).sum().plot(kind='bar',color='black')\n",
    "plt.xlabel('Year',fontsize=15)\n",
    "plt.ylabel('Number of killed people',fontsize=15)\n",
    "plt.title('People Killed In Terror Attack',fontsize=20)\n",
    "plt.show()"
   ]
  },
  {
   "cell_type": "markdown",
   "metadata": {},
   "source": [
    "- In 2014, more people were killed due to terrorist attack"
   ]
  },
  {
   "cell_type": "markdown",
   "metadata": {},
   "source": [
    "##  Total People Killed In Terrorist Attack"
   ]
  },
  {
   "cell_type": "code",
   "execution_count": null,
   "metadata": {
    "scrolled": true
   },
   "outputs": [],
   "source": [
    "df_req[\"Killed\"].sum()"
   ]
  },
  {
   "cell_type": "markdown",
   "metadata": {},
   "source": [
    "## Countries Which Suffered Most From Terrorism"
   ]
  },
  {
   "cell_type": "code",
   "execution_count": null,
   "metadata": {},
   "outputs": [],
   "source": [
    "plt.figure(figsize=(14,6))\n",
    "coun_kill = df_req.groupby([\"Country\"]).sum()[\"Killed\"]\n",
    "print(coun_kill.sort_values(ascending=False)[:10])\n",
    "coun_kill.sort_values(ascending=False)[:10].plot(kind=\"bar\",color='black')\n",
    "\n",
    "\n",
    "plt.xlabel('Country',fontsize=15)\n",
    "plt.ylabel('Total People Killed',fontsize=15)\n",
    "plt.title('10 Countries Which Suffer Most From Terrorism',fontsize=20)\n",
    "plt.show()"
   ]
  },
  {
   "cell_type": "markdown",
   "metadata": {},
   "source": [
    "Observations:\n",
    "- Iraq suffered most from the terrorism over the years\n",
    "- India comes at 5th position in this list"
   ]
  },
  {
   "cell_type": "markdown",
   "metadata": {},
   "source": [
    "## Year In Which Cities Suffered Most From Terrorism "
   ]
  },
  {
   "cell_type": "code",
   "execution_count": null,
   "metadata": {},
   "outputs": [],
   "source": [
    "plt.figure(figsize=(14,6))\n",
    "city_kill = df_req.groupby([\"City\",\"Year\"]).sum()[\"Killed\"]\n",
    "print(coun_kill.sort_values(ascending=False)[:10])\n",
    "city_kill.sort_values(ascending=False)[:10].plot(kind=\"bar\",color='black')\n",
    "\n",
    "plt.xlabel('City',fontsize=15)\n",
    "plt.ylabel('Total People Killed',fontsize=15)\n",
    "plt.title('10 Cities With Year Suffered Most From Terrorism',fontsize=20)\n",
    "plt.show()"
   ]
  },
  {
   "cell_type": "markdown",
   "metadata": {},
   "source": [
    "Observations:\n",
    "- City Baghdad faced most casualties in year 2006\n",
    "- New York faced high casualties in year 2001 (9/11 attack)"
   ]
  },
  {
   "cell_type": "markdown",
   "metadata": {},
   "source": [
    "## Terrorism In India"
   ]
  },
  {
   "cell_type": "code",
   "execution_count": null,
   "metadata": {},
   "outputs": [],
   "source": [
    "df_india = df_req[df_req[\"Country\"]=='India']\n",
    "print(\"Shape of the dataset: \" , df_india.shape)\n",
    "df_india.head()"
   ]
  },
  {
   "cell_type": "markdown",
   "metadata": {},
   "source": [
    "## 10 Most Attacking Terrorist Groups In India "
   ]
  },
  {
   "cell_type": "code",
   "execution_count": null,
   "metadata": {},
   "outputs": [],
   "source": [
    "df_india[\"Group Name\"].value_counts()[1:11].plot(kind='bar',color='black')\n",
    "plt.xticks(rotation=70)\n",
    "\n",
    "plt.xlabel('Terrorist Groups',fontsize=15)\n",
    "plt.ylabel('Number Of Attacks',fontsize=15)\n",
    "plt.title('Attacking Groups In India',fontsize=20)\n",
    "plt.show()"
   ]
  },
  {
   "cell_type": "markdown",
   "metadata": {},
   "source": [
    "##### "
   ]
  },
  {
   "cell_type": "markdown",
   "metadata": {},
   "source": [
    "## Insights\n",
    "- From 2012, there is signigicant increase in attacks.\n",
    "- 2014 was the most affected year by the terrorism\n",
    "- Most terrorist attacks are done by the Taliban\n",
    "- Iraq is the most affected country by the terrroism\n",
    "- Pakistan & Afghanistan are the second and third most affected countries\n",
    "- India is at 4th place in this list\n",
    "- Middle East & North Africa is the most affected region\n",
    "- Australasia and Oceania is the less affected region by the terrorism\n",
    "- Bombing/Explosion is mostly used tactic in terror attack\n",
    "- Citizens & Property is the most targeted community by the terrorists\n",
    "- Explosives & Firearms are the most used weapons by the terrorist\n",
    "- In 2014, more people were killed due to terrorist attack\n",
    "- Total 405210 people killed by the terrorists as per dataset\n",
    "- City Baghdad faced most casualties in year 2006\n",
    "- New York faced high casualties in year 2001 (9/11 attack)"
   ]
  },
  {
   "cell_type": "markdown",
   "metadata": {},
   "source": [
    "##### "
   ]
  },
  {
   "cell_type": "markdown",
   "metadata": {},
   "source": [
    "##### "
   ]
  }
 ],
 "metadata": {
  "kernelspec": {
   "display_name": "Python 3",
   "language": "python",
   "name": "python3"
  },
  "language_info": {
   "codemirror_mode": {
    "name": "ipython",
    "version": 3
   },
   "file_extension": ".py",
   "mimetype": "text/x-python",
   "name": "python",
   "nbconvert_exporter": "python",
   "pygments_lexer": "ipython3",
   "version": "3.8.5"
  }
 },
 "nbformat": 4,
 "nbformat_minor": 4
}
